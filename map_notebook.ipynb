{
  "cells": [
    {
      "cell_type": "code",
      "source": [
        "import pandas as pd\n",
        "from ipyleaflet import Map, Marker, Polygon, FullScreenControl, LegendControl\n",
        "from ipywidgets import Layout\n",
        "import ast\n",
        "import math\n",
        "\n",
        "\n",
        "class MapRenderer:\n",
        "    def __init__(self, district_data: pd.DataFrame, points_data: pd.DataFrame):\n",
        "        self.__points_data = points_data\n",
        "        self.__district_data = district_data\n",
        "\n",
        "    def get_map(self) -> Map:\n",
        "        \"\"\"\n",
        "        TODO:\n",
        "        - Создать карту с центром в центре города (с медианой lat и медианой lon)\n",
        "        - Для каждого района нарисовать Polygon с цветом районом\n",
        "        - Для каждого района нарисовать неперемещаемый Marker в центре района с title=<название_района>\n",
        "        - Для каждого района добавить в LegendControl цвет с соответствующим именем района\n",
        "        - Добавить FullScreenControl в карту\n",
        "        - Использовать в карте Layout(width='100%', height='800px')\n",
        "        \"\"\"\n",
        "        map_center = (self.__points_data['lat'].mean(), self.__points_data['lon'].mean())\n",
        "        m = Map(center=map_center, layout=Layout(width='100%', height='800px'))\n",
        "        legend = LegendControl({}, title=\"Районы Казани\", position=\"bottomright\")\n",
        "        for district, points, center, color in self.__district_data.to_numpy():\n",
        "            points = [tuple(p) for p in ast.literal_eval(points)]\n",
        "            center = ast.literal_eval(center)\n",
        "            m.add(Polygon(\n",
        "                locations=points,\n",
        "                color=color,\n",
        "                fill_color=color\n",
        "            ))\n",
        "            m.add(Marker(location=center, title=district, draggable=False))\n",
        "            legend.add_legend_element(key=district, value=color)\n",
        "        m.add(legend)\n",
        "        m.add(FullScreenControl())\n",
        "        return m\n"
      ],
      "metadata": {
        "id": "G04iyjIwoKCh"
      },
      "id": "G04iyjIwoKCh",
      "execution_count": 90,
      "outputs": []
    },
    {
      "cell_type": "markdown",
      "id": "535eecb0-5d7b-4bce-9d46-89edc41e888b",
      "metadata": {
        "id": "535eecb0-5d7b-4bce-9d46-89edc41e888b"
      },
      "source": [
        "Вместо многоточия ниже подставьте путь к своему .csv-файлу"
      ]
    },
    {
      "cell_type": "code",
      "execution_count": 91,
      "id": "b75df7c8-032e-4fc4-b454-e6c60144ea4c",
      "metadata": {
        "id": "b75df7c8-032e-4fc4-b454-e6c60144ea4c"
      },
      "outputs": [],
      "source": [
        "points_df = pd.read_csv(\"points.csv\")\n",
        "districts_df = pd.read_csv(\"districts.csv\")"
      ]
    },
    {
      "cell_type": "code",
      "execution_count": 92,
      "id": "2a2f356f-7a1d-4e63-a394-55b046ddf584",
      "metadata": {
        "colab": {
          "base_uri": "https://localhost:8080/",
          "height": 439
        },
        "id": "2a2f356f-7a1d-4e63-a394-55b046ddf584",
        "outputId": "d5de3091-0647-4193-c0ec-b8790da5e174"
      },
      "outputs": [
        {
          "output_type": "execute_result",
          "data": {
            "text/plain": [
              "               district                                             points  \\\n",
              "0         Советский р-н  [[55.79701666, 49.16197596], [55.75996203, 49....   \n",
              "1         Кировский р-н  [[55.80102575, 48.98355862], [55.79457119, 49....   \n",
              "2       Приволжский р-н  [[55.70005112, 49.06250366], [55.6981604, 49.0...   \n",
              "3        Московский р-н  [[55.83514383, 49.02335297], [55.82896952, 49....   \n",
              "4  Авиастроительный р-н  [[55.8512175, 49.05064957], [55.84739923, 49.0...   \n",
              "5  Ново-Савиновский р-н  [[55.84317032, 49.09048384], [55.83355611, 49....   \n",
              "6       Вахитовский р-н  [[55.76170341, 49.07853502], [55.75989995, 49....   \n",
              "7   Верхнеуслонский р-н  [[55.7681986, 48.98036832], [55.7601299, 48.98...   \n",
              "\n",
              "                                     center   color  \n",
              "0     (55.8006664036983, 49.22327891318735)   green  \n",
              "1  (55.809177369083336, 49.047308878083335)    blue  \n",
              "2     (55.73707200588405, 49.1668575637971)  yellow  \n",
              "3    (55.83297060833333, 49.06870853814815)     red  \n",
              "4   (55.854467778965514, 49.09137408051723)    pink  \n",
              "5    (55.83215790016128, 49.12976869362903)   white  \n",
              "6   (55.78388507437501, 49.128690148958334)   black  \n",
              "7         (55.765367782, 48.98666391933334)   brown  "
            ],
            "text/html": [
              "\n",
              "  <div id=\"df-20db9eab-e641-4ee5-b6e2-1ee7424bf7c0\" class=\"colab-df-container\">\n",
              "    <div>\n",
              "<style scoped>\n",
              "    .dataframe tbody tr th:only-of-type {\n",
              "        vertical-align: middle;\n",
              "    }\n",
              "\n",
              "    .dataframe tbody tr th {\n",
              "        vertical-align: top;\n",
              "    }\n",
              "\n",
              "    .dataframe thead th {\n",
              "        text-align: right;\n",
              "    }\n",
              "</style>\n",
              "<table border=\"1\" class=\"dataframe\">\n",
              "  <thead>\n",
              "    <tr style=\"text-align: right;\">\n",
              "      <th></th>\n",
              "      <th>district</th>\n",
              "      <th>points</th>\n",
              "      <th>center</th>\n",
              "      <th>color</th>\n",
              "    </tr>\n",
              "  </thead>\n",
              "  <tbody>\n",
              "    <tr>\n",
              "      <th>0</th>\n",
              "      <td>Советский р-н</td>\n",
              "      <td>[[55.79701666, 49.16197596], [55.75996203, 49....</td>\n",
              "      <td>(55.8006664036983, 49.22327891318735)</td>\n",
              "      <td>green</td>\n",
              "    </tr>\n",
              "    <tr>\n",
              "      <th>1</th>\n",
              "      <td>Кировский р-н</td>\n",
              "      <td>[[55.80102575, 48.98355862], [55.79457119, 49....</td>\n",
              "      <td>(55.809177369083336, 49.047308878083335)</td>\n",
              "      <td>blue</td>\n",
              "    </tr>\n",
              "    <tr>\n",
              "      <th>2</th>\n",
              "      <td>Приволжский р-н</td>\n",
              "      <td>[[55.70005112, 49.06250366], [55.6981604, 49.0...</td>\n",
              "      <td>(55.73707200588405, 49.1668575637971)</td>\n",
              "      <td>yellow</td>\n",
              "    </tr>\n",
              "    <tr>\n",
              "      <th>3</th>\n",
              "      <td>Московский р-н</td>\n",
              "      <td>[[55.83514383, 49.02335297], [55.82896952, 49....</td>\n",
              "      <td>(55.83297060833333, 49.06870853814815)</td>\n",
              "      <td>red</td>\n",
              "    </tr>\n",
              "    <tr>\n",
              "      <th>4</th>\n",
              "      <td>Авиастроительный р-н</td>\n",
              "      <td>[[55.8512175, 49.05064957], [55.84739923, 49.0...</td>\n",
              "      <td>(55.854467778965514, 49.09137408051723)</td>\n",
              "      <td>pink</td>\n",
              "    </tr>\n",
              "    <tr>\n",
              "      <th>5</th>\n",
              "      <td>Ново-Савиновский р-н</td>\n",
              "      <td>[[55.84317032, 49.09048384], [55.83355611, 49....</td>\n",
              "      <td>(55.83215790016128, 49.12976869362903)</td>\n",
              "      <td>white</td>\n",
              "    </tr>\n",
              "    <tr>\n",
              "      <th>6</th>\n",
              "      <td>Вахитовский р-н</td>\n",
              "      <td>[[55.76170341, 49.07853502], [55.75989995, 49....</td>\n",
              "      <td>(55.78388507437501, 49.128690148958334)</td>\n",
              "      <td>black</td>\n",
              "    </tr>\n",
              "    <tr>\n",
              "      <th>7</th>\n",
              "      <td>Верхнеуслонский р-н</td>\n",
              "      <td>[[55.7681986, 48.98036832], [55.7601299, 48.98...</td>\n",
              "      <td>(55.765367782, 48.98666391933334)</td>\n",
              "      <td>brown</td>\n",
              "    </tr>\n",
              "  </tbody>\n",
              "</table>\n",
              "</div>\n",
              "    <div class=\"colab-df-buttons\">\n",
              "\n",
              "  <div class=\"colab-df-container\">\n",
              "    <button class=\"colab-df-convert\" onclick=\"convertToInteractive('df-20db9eab-e641-4ee5-b6e2-1ee7424bf7c0')\"\n",
              "            title=\"Convert this dataframe to an interactive table.\"\n",
              "            style=\"display:none;\">\n",
              "\n",
              "  <svg xmlns=\"http://www.w3.org/2000/svg\" height=\"24px\" viewBox=\"0 -960 960 960\">\n",
              "    <path d=\"M120-120v-720h720v720H120Zm60-500h600v-160H180v160Zm220 220h160v-160H400v160Zm0 220h160v-160H400v160ZM180-400h160v-160H180v160Zm440 0h160v-160H620v160ZM180-180h160v-160H180v160Zm440 0h160v-160H620v160Z\"/>\n",
              "  </svg>\n",
              "    </button>\n",
              "\n",
              "  <style>\n",
              "    .colab-df-container {\n",
              "      display:flex;\n",
              "      gap: 12px;\n",
              "    }\n",
              "\n",
              "    .colab-df-convert {\n",
              "      background-color: #E8F0FE;\n",
              "      border: none;\n",
              "      border-radius: 50%;\n",
              "      cursor: pointer;\n",
              "      display: none;\n",
              "      fill: #1967D2;\n",
              "      height: 32px;\n",
              "      padding: 0 0 0 0;\n",
              "      width: 32px;\n",
              "    }\n",
              "\n",
              "    .colab-df-convert:hover {\n",
              "      background-color: #E2EBFA;\n",
              "      box-shadow: 0px 1px 2px rgba(60, 64, 67, 0.3), 0px 1px 3px 1px rgba(60, 64, 67, 0.15);\n",
              "      fill: #174EA6;\n",
              "    }\n",
              "\n",
              "    .colab-df-buttons div {\n",
              "      margin-bottom: 4px;\n",
              "    }\n",
              "\n",
              "    [theme=dark] .colab-df-convert {\n",
              "      background-color: #3B4455;\n",
              "      fill: #D2E3FC;\n",
              "    }\n",
              "\n",
              "    [theme=dark] .colab-df-convert:hover {\n",
              "      background-color: #434B5C;\n",
              "      box-shadow: 0px 1px 3px 1px rgba(0, 0, 0, 0.15);\n",
              "      filter: drop-shadow(0px 1px 2px rgba(0, 0, 0, 0.3));\n",
              "      fill: #FFFFFF;\n",
              "    }\n",
              "  </style>\n",
              "\n",
              "    <script>\n",
              "      const buttonEl =\n",
              "        document.querySelector('#df-20db9eab-e641-4ee5-b6e2-1ee7424bf7c0 button.colab-df-convert');\n",
              "      buttonEl.style.display =\n",
              "        google.colab.kernel.accessAllowed ? 'block' : 'none';\n",
              "\n",
              "      async function convertToInteractive(key) {\n",
              "        const element = document.querySelector('#df-20db9eab-e641-4ee5-b6e2-1ee7424bf7c0');\n",
              "        const dataTable =\n",
              "          await google.colab.kernel.invokeFunction('convertToInteractive',\n",
              "                                                    [key], {});\n",
              "        if (!dataTable) return;\n",
              "\n",
              "        const docLinkHtml = 'Like what you see? Visit the ' +\n",
              "          '<a target=\"_blank\" href=https://colab.research.google.com/notebooks/data_table.ipynb>data table notebook</a>'\n",
              "          + ' to learn more about interactive tables.';\n",
              "        element.innerHTML = '';\n",
              "        dataTable['output_type'] = 'display_data';\n",
              "        await google.colab.output.renderOutput(dataTable, element);\n",
              "        const docLink = document.createElement('div');\n",
              "        docLink.innerHTML = docLinkHtml;\n",
              "        element.appendChild(docLink);\n",
              "      }\n",
              "    </script>\n",
              "  </div>\n",
              "\n",
              "\n",
              "<div id=\"df-cbf1f423-83ac-47f6-b99f-5cd4c8fce5ec\">\n",
              "  <button class=\"colab-df-quickchart\" onclick=\"quickchart('df-cbf1f423-83ac-47f6-b99f-5cd4c8fce5ec')\"\n",
              "            title=\"Suggest charts\"\n",
              "            style=\"display:none;\">\n",
              "\n",
              "<svg xmlns=\"http://www.w3.org/2000/svg\" height=\"24px\"viewBox=\"0 0 24 24\"\n",
              "     width=\"24px\">\n",
              "    <g>\n",
              "        <path d=\"M19 3H5c-1.1 0-2 .9-2 2v14c0 1.1.9 2 2 2h14c1.1 0 2-.9 2-2V5c0-1.1-.9-2-2-2zM9 17H7v-7h2v7zm4 0h-2V7h2v10zm4 0h-2v-4h2v4z\"/>\n",
              "    </g>\n",
              "</svg>\n",
              "  </button>\n",
              "\n",
              "<style>\n",
              "  .colab-df-quickchart {\n",
              "      --bg-color: #E8F0FE;\n",
              "      --fill-color: #1967D2;\n",
              "      --hover-bg-color: #E2EBFA;\n",
              "      --hover-fill-color: #174EA6;\n",
              "      --disabled-fill-color: #AAA;\n",
              "      --disabled-bg-color: #DDD;\n",
              "  }\n",
              "\n",
              "  [theme=dark] .colab-df-quickchart {\n",
              "      --bg-color: #3B4455;\n",
              "      --fill-color: #D2E3FC;\n",
              "      --hover-bg-color: #434B5C;\n",
              "      --hover-fill-color: #FFFFFF;\n",
              "      --disabled-bg-color: #3B4455;\n",
              "      --disabled-fill-color: #666;\n",
              "  }\n",
              "\n",
              "  .colab-df-quickchart {\n",
              "    background-color: var(--bg-color);\n",
              "    border: none;\n",
              "    border-radius: 50%;\n",
              "    cursor: pointer;\n",
              "    display: none;\n",
              "    fill: var(--fill-color);\n",
              "    height: 32px;\n",
              "    padding: 0;\n",
              "    width: 32px;\n",
              "  }\n",
              "\n",
              "  .colab-df-quickchart:hover {\n",
              "    background-color: var(--hover-bg-color);\n",
              "    box-shadow: 0 1px 2px rgba(60, 64, 67, 0.3), 0 1px 3px 1px rgba(60, 64, 67, 0.15);\n",
              "    fill: var(--button-hover-fill-color);\n",
              "  }\n",
              "\n",
              "  .colab-df-quickchart-complete:disabled,\n",
              "  .colab-df-quickchart-complete:disabled:hover {\n",
              "    background-color: var(--disabled-bg-color);\n",
              "    fill: var(--disabled-fill-color);\n",
              "    box-shadow: none;\n",
              "  }\n",
              "\n",
              "  .colab-df-spinner {\n",
              "    border: 2px solid var(--fill-color);\n",
              "    border-color: transparent;\n",
              "    border-bottom-color: var(--fill-color);\n",
              "    animation:\n",
              "      spin 1s steps(1) infinite;\n",
              "  }\n",
              "\n",
              "  @keyframes spin {\n",
              "    0% {\n",
              "      border-color: transparent;\n",
              "      border-bottom-color: var(--fill-color);\n",
              "      border-left-color: var(--fill-color);\n",
              "    }\n",
              "    20% {\n",
              "      border-color: transparent;\n",
              "      border-left-color: var(--fill-color);\n",
              "      border-top-color: var(--fill-color);\n",
              "    }\n",
              "    30% {\n",
              "      border-color: transparent;\n",
              "      border-left-color: var(--fill-color);\n",
              "      border-top-color: var(--fill-color);\n",
              "      border-right-color: var(--fill-color);\n",
              "    }\n",
              "    40% {\n",
              "      border-color: transparent;\n",
              "      border-right-color: var(--fill-color);\n",
              "      border-top-color: var(--fill-color);\n",
              "    }\n",
              "    60% {\n",
              "      border-color: transparent;\n",
              "      border-right-color: var(--fill-color);\n",
              "    }\n",
              "    80% {\n",
              "      border-color: transparent;\n",
              "      border-right-color: var(--fill-color);\n",
              "      border-bottom-color: var(--fill-color);\n",
              "    }\n",
              "    90% {\n",
              "      border-color: transparent;\n",
              "      border-bottom-color: var(--fill-color);\n",
              "    }\n",
              "  }\n",
              "</style>\n",
              "\n",
              "  <script>\n",
              "    async function quickchart(key) {\n",
              "      const quickchartButtonEl =\n",
              "        document.querySelector('#' + key + ' button');\n",
              "      quickchartButtonEl.disabled = true;  // To prevent multiple clicks.\n",
              "      quickchartButtonEl.classList.add('colab-df-spinner');\n",
              "      try {\n",
              "        const charts = await google.colab.kernel.invokeFunction(\n",
              "            'suggestCharts', [key], {});\n",
              "      } catch (error) {\n",
              "        console.error('Error during call to suggestCharts:', error);\n",
              "      }\n",
              "      quickchartButtonEl.classList.remove('colab-df-spinner');\n",
              "      quickchartButtonEl.classList.add('colab-df-quickchart-complete');\n",
              "    }\n",
              "    (() => {\n",
              "      let quickchartButtonEl =\n",
              "        document.querySelector('#df-cbf1f423-83ac-47f6-b99f-5cd4c8fce5ec button');\n",
              "      quickchartButtonEl.style.display =\n",
              "        google.colab.kernel.accessAllowed ? 'block' : 'none';\n",
              "    })();\n",
              "  </script>\n",
              "</div>\n",
              "    </div>\n",
              "  </div>\n"
            ],
            "application/vnd.google.colaboratory.intrinsic+json": {
              "type": "dataframe",
              "variable_name": "districts_df",
              "summary": "{\n  \"name\": \"districts_df\",\n  \"rows\": 8,\n  \"fields\": [\n    {\n      \"column\": \"district\",\n      \"properties\": {\n        \"dtype\": \"string\",\n        \"num_unique_values\": 8,\n        \"samples\": [\n          \"\\u041a\\u0438\\u0440\\u043e\\u0432\\u0441\\u043a\\u0438\\u0439 \\u0440-\\u043d\",\n          \"\\u041d\\u043e\\u0432\\u043e-\\u0421\\u0430\\u0432\\u0438\\u043d\\u043e\\u0432\\u0441\\u043a\\u0438\\u0439 \\u0440-\\u043d\",\n          \"\\u0421\\u043e\\u0432\\u0435\\u0442\\u0441\\u043a\\u0438\\u0439 \\u0440-\\u043d\"\n        ],\n        \"semantic_type\": \"\",\n        \"description\": \"\"\n      }\n    },\n    {\n      \"column\": \"points\",\n      \"properties\": {\n        \"dtype\": \"string\",\n        \"num_unique_values\": 8,\n        \"samples\": [\n          \"[[55.80102575, 48.98355862], [55.79457119, 49.00296876], [55.79157857, 49.05581216], [55.80570817, 49.09168861], [55.81182168, 49.10321252], [55.82341167, 49.08198871], [55.82861255, 49.04609018], [55.82835613, 49.02772878], [55.81410362, 49.00406575]]\",\n          \"[[55.84317032, 49.09048384], [55.83355611, 49.09205691], [55.81294515, 49.10820295], [55.81224943, 49.10959414], [55.81303454, 49.13443587], [55.82154427, 49.16220761], [55.82842188, 49.16609233], [55.84821382, 49.16017302], [55.84842969, 49.15589655], [55.84888838, 49.14561398], [55.84411471, 49.09296946]]\",\n          \"[[55.79701666, 49.16197596], [55.75996203, 49.16506946], [55.75022275, 49.27126502], [55.74933053, 49.28282012], [55.74971864, 49.28628329], [55.76163269, 49.29372761], [55.80333358, 49.2875187], [55.81151284, 49.28475268], [55.81497592, 49.28114693], [55.84101221, 49.24695937], [55.85172355, 49.22550653], [55.85855522, 49.20314189], [55.8619433, 49.18931734], [55.85839452, 49.17391473], [55.85077252, 49.167975]]\"\n        ],\n        \"semantic_type\": \"\",\n        \"description\": \"\"\n      }\n    },\n    {\n      \"column\": \"center\",\n      \"properties\": {\n        \"dtype\": \"string\",\n        \"num_unique_values\": 8,\n        \"samples\": [\n          \"(55.809177369083336, 49.047308878083335)\",\n          \"(55.83215790016128, 49.12976869362903)\",\n          \"(55.8006664036983, 49.22327891318735)\"\n        ],\n        \"semantic_type\": \"\",\n        \"description\": \"\"\n      }\n    },\n    {\n      \"column\": \"color\",\n      \"properties\": {\n        \"dtype\": \"string\",\n        \"num_unique_values\": 8,\n        \"samples\": [\n          \"blue\",\n          \"white\",\n          \"green\"\n        ],\n        \"semantic_type\": \"\",\n        \"description\": \"\"\n      }\n    }\n  ]\n}"
            }
          },
          "metadata": {},
          "execution_count": 92
        }
      ],
      "source": [
        "districts_df"
      ]
    },
    {
      "cell_type": "code",
      "execution_count": 93,
      "id": "144f548b-7f96-48bb-9225-29ecd2f057f9",
      "metadata": {
        "id": "144f548b-7f96-48bb-9225-29ecd2f057f9"
      },
      "outputs": [],
      "source": [
        "renderer = MapRenderer(districts_df, points_df)"
      ]
    },
    {
      "cell_type": "code",
      "execution_count": 94,
      "id": "757d5fe5-4239-41a4-b41d-794fe7ffabb9",
      "metadata": {
        "colab": {
          "base_uri": "https://localhost:8080/",
          "height": 841,
          "referenced_widgets": [
            "277d74b924e045d0854365dbd68c3602",
            "fa5dfc792c40403eb6125def27860272",
            "203aca4ed7274b1eab2516ec8633e675",
            "bdf6227b218f443db9782db9312745f0",
            "0c4bd118b41442709b3e82e69660f235",
            "8055e99fbc5d4feabb6911fece6878b5",
            "c0c0a1a784464ff4a5c00e54a9297055",
            "297bc785d7324fcb9a73ba7ffb13eb44",
            "e248f577fe71405280caa96e253e5ac9",
            "88a8b8f0552c47d1a1a944cb55741f2a",
            "4d4fa8f3512e4e3ba788b6f1c006070f",
            "981aaa2c8244434bb6bac1230336d893",
            "f87f6b5aa6d842cb86f3d5561c2c1097",
            "7e69aae179434b0bab3dbbf827296c7f",
            "abd5c96db54f40cda1131365e2619683",
            "55e8b8b321c34b40bf9adccaa28b0965",
            "6751aa1a202245dc93e87df55e5e51d8",
            "891f6f95493240bf8cec6447cbd72f4f",
            "c748b7b5f1c949fd8a8cc706b55447c2",
            "c8c5d990628741eba77a24ed446c3bfc",
            "7f9a344552584814840e6d9db82ff903",
            "2e42767767664d2688039e0ffd378c48",
            "73b2a982f4974ff095306ab7e1cf7d32",
            "63f805646a5c42dcbcecf016bb0de496",
            "5e34e3f14a644a5f879ed2aa74a30ae6",
            "0d85fafd643d48fe832b62aa35eb28bb"
          ]
        },
        "id": "757d5fe5-4239-41a4-b41d-794fe7ffabb9",
        "outputId": "27b95d09-eeb8-4bdf-9497-fefb79ad37c8"
      },
      "outputs": [
        {
          "output_type": "display_data",
          "data": {
            "text/plain": [
              "Map(center=[55.78898252310711, 49.15720854213409], controls=(ZoomControl(options=['position', 'zoom_in_text', …"
            ],
            "application/vnd.jupyter.widget-view+json": {
              "version_major": 2,
              "version_minor": 0,
              "model_id": "277d74b924e045d0854365dbd68c3602"
            }
          },
          "metadata": {
            "application/vnd.jupyter.widget-view+json": {
              "colab": {
                "custom_widget_manager": {
                  "url": "https://ssl.gstatic.com/colaboratory-static/widgets/colab-cdn-widget-manager/2b70e893a8ba7c0f/manager.min.js"
                }
              }
            }
          }
        }
      ],
      "source": [
        "renderer.get_map()"
      ]
    }
  ],
  "metadata": {
    "kernelspec": {
      "display_name": "Python 3 (ipykernel)",
      "language": "python",
      "name": "python3"
    },
    "language_info": {
      "codemirror_mode": {
        "name": "ipython",
        "version": 3
      },
      "file_extension": ".py",
      "mimetype": "text/x-python",
      "name": "python",
      "nbconvert_exporter": "python",
      "pygments_lexer": "ipython3",
      "version": "3.11.7"
    },
    "colab": {
      "provenance": []
    },
    "widgets": {
      "application/vnd.jupyter.widget-state+json": {
        "277d74b924e045d0854365dbd68c3602": {
          "model_module": "jupyter-leaflet",
          "model_name": "LeafletMapModel",
          "model_module_version": "^0.18",
          "state": {
            "_dom_classes": [],
            "_model_module": "jupyter-leaflet",
            "_model_module_version": "^0.18",
            "_model_name": "LeafletMapModel",
            "_view_count": null,
            "_view_module": "jupyter-leaflet",
            "_view_module_version": "^0.18",
            "_view_name": "LeafletMapView",
            "bottom": 328016,
            "bounce_at_zoom_limits": true,
            "box_zoom": true,
            "center": [
              55.78898252310711,
              49.15720854213409
            ],
            "close_popup_on_click": true,
            "controls": [
              "IPY_MODEL_fa5dfc792c40403eb6125def27860272",
              "IPY_MODEL_203aca4ed7274b1eab2516ec8633e675",
              "IPY_MODEL_bdf6227b218f443db9782db9312745f0",
              "IPY_MODEL_0c4bd118b41442709b3e82e69660f235"
            ],
            "crs": {
              "name": "EPSG3857",
              "custom": false
            },
            "default_style": "IPY_MODEL_8055e99fbc5d4feabb6911fece6878b5",
            "double_click_zoom": true,
            "dragging": true,
            "dragging_style": "IPY_MODEL_c0c0a1a784464ff4a5c00e54a9297055",
            "east": 49.31350708007813,
            "fullscreen": false,
            "inertia": true,
            "inertia_deceleration": 3000,
            "inertia_max_speed": 1500,
            "interpolation": "bilinear",
            "keyboard": true,
            "keyboard_pan_offset": 80,
            "keyboard_zoom_offset": 1,
            "layers": [
              "IPY_MODEL_297bc785d7324fcb9a73ba7ffb13eb44",
              "IPY_MODEL_e248f577fe71405280caa96e253e5ac9",
              "IPY_MODEL_88a8b8f0552c47d1a1a944cb55741f2a",
              "IPY_MODEL_4d4fa8f3512e4e3ba788b6f1c006070f",
              "IPY_MODEL_981aaa2c8244434bb6bac1230336d893",
              "IPY_MODEL_f87f6b5aa6d842cb86f3d5561c2c1097",
              "IPY_MODEL_7e69aae179434b0bab3dbbf827296c7f",
              "IPY_MODEL_abd5c96db54f40cda1131365e2619683",
              "IPY_MODEL_55e8b8b321c34b40bf9adccaa28b0965",
              "IPY_MODEL_6751aa1a202245dc93e87df55e5e51d8",
              "IPY_MODEL_891f6f95493240bf8cec6447cbd72f4f",
              "IPY_MODEL_c748b7b5f1c949fd8a8cc706b55447c2",
              "IPY_MODEL_c8c5d990628741eba77a24ed446c3bfc",
              "IPY_MODEL_7f9a344552584814840e6d9db82ff903",
              "IPY_MODEL_2e42767767664d2688039e0ffd378c48",
              "IPY_MODEL_73b2a982f4974ff095306ab7e1cf7d32",
              "IPY_MODEL_63f805646a5c42dcbcecf016bb0de496"
            ],
            "layout": "IPY_MODEL_5e34e3f14a644a5f879ed2aa74a30ae6",
            "left": 667014,
            "max_zoom": null,
            "min_zoom": null,
            "modisdate": "2024-05-28",
            "north": 55.866064809810105,
            "options": [
              "bounce_at_zoom_limits",
              "box_zoom",
              "center",
              "close_popup_on_click",
              "double_click_zoom",
              "dragging",
              "fullscreen",
              "inertia",
              "inertia_deceleration",
              "inertia_max_speed",
              "interpolation",
              "keyboard",
              "keyboard_pan_offset",
              "keyboard_zoom_offset",
              "max_zoom",
              "min_zoom",
              "prefer_canvas",
              "scroll_wheel_zoom",
              "tap",
              "tap_tolerance",
              "touch_zoom",
              "world_copy_jump",
              "zoom",
              "zoom_animation_threshold",
              "zoom_delta",
              "zoom_snap"
            ],
            "panes": {},
            "prefer_canvas": false,
            "right": 667924,
            "scroll_wheel_zoom": false,
            "south": 55.71164005362048,
            "style": "IPY_MODEL_0d85fafd643d48fe832b62aa35eb28bb",
            "tap": true,
            "tap_tolerance": 15,
            "top": 327216,
            "touch_zoom": true,
            "west": 49.001083374023445,
            "window_url": "https://lr0hl4g05vt-496ff2e9c6d22116-0-colab.googleusercontent.com/outputframe.html?vrz=colab_20240524-060114_RC00_636876774",
            "world_copy_jump": false,
            "zoom": 12,
            "zoom_animation_threshold": 4,
            "zoom_delta": 1,
            "zoom_snap": 1
          }
        },
        "fa5dfc792c40403eb6125def27860272": {
          "model_module": "jupyter-leaflet",
          "model_name": "LeafletZoomControlModel",
          "model_module_version": "^0.18",
          "state": {
            "_model_module": "jupyter-leaflet",
            "_model_module_version": "^0.18",
            "_model_name": "LeafletZoomControlModel",
            "_view_count": null,
            "_view_module": "jupyter-leaflet",
            "_view_module_version": "^0.18",
            "_view_name": "LeafletZoomControlView",
            "options": [
              "position",
              "zoom_in_text",
              "zoom_in_title",
              "zoom_out_text",
              "zoom_out_title"
            ],
            "position": "topleft",
            "zoom_in_text": "+",
            "zoom_in_title": "Zoom in",
            "zoom_out_text": "-",
            "zoom_out_title": "Zoom out"
          }
        },
        "203aca4ed7274b1eab2516ec8633e675": {
          "model_module": "jupyter-leaflet",
          "model_name": "LeafletAttributionControlModel",
          "model_module_version": "^0.18",
          "state": {
            "_model_module": "jupyter-leaflet",
            "_model_module_version": "^0.18",
            "_model_name": "LeafletAttributionControlModel",
            "_view_count": null,
            "_view_module": "jupyter-leaflet",
            "_view_module_version": "^0.18",
            "_view_name": "LeafletAttributionControlView",
            "options": [
              "position",
              "prefix"
            ],
            "position": "bottomright",
            "prefix": "ipyleaflet"
          }
        },
        "bdf6227b218f443db9782db9312745f0": {
          "model_module": "jupyter-leaflet",
          "model_name": "LeafletLegendControlModel",
          "model_module_version": "^0.18",
          "state": {
            "_model_module": "jupyter-leaflet",
            "_model_module_version": "^0.18",
            "_model_name": "LeafletLegendControlModel",
            "_view_count": null,
            "_view_module": "jupyter-leaflet",
            "_view_module_version": "^0.18",
            "_view_name": "LeafletLegendControlView",
            "legend": {
              "Советский р-н": "green",
              "Кировский р-н": "blue",
              "Приволжский р-н": "yellow",
              "Московский р-н": "red",
              "Авиастроительный р-н": "pink",
              "Ново-Савиновский р-н": "white",
              "Вахитовский р-н": "black",
              "Верхнеуслонский р-н": "brown"
            },
            "options": [
              "position"
            ],
            "position": "bottomright",
            "title": "Районы Казани"
          }
        },
        "0c4bd118b41442709b3e82e69660f235": {
          "model_module": "jupyter-leaflet",
          "model_name": "LeafletFullScreenControlModel",
          "model_module_version": "^0.18",
          "state": {
            "_model_module": "jupyter-leaflet",
            "_model_module_version": "^0.18",
            "_model_name": "LeafletFullScreenControlModel",
            "_view_count": null,
            "_view_module": "jupyter-leaflet",
            "_view_module_version": "^0.18",
            "_view_name": "LeafletFullScreenControlView",
            "options": [
              "position"
            ],
            "position": "topleft"
          }
        },
        "8055e99fbc5d4feabb6911fece6878b5": {
          "model_module": "jupyter-leaflet",
          "model_name": "LeafletMapStyleModel",
          "model_module_version": "^0.18",
          "state": {
            "_model_module": "jupyter-leaflet",
            "_model_module_version": "^0.18",
            "_model_name": "LeafletMapStyleModel",
            "_view_count": null,
            "_view_module": "@jupyter-widgets/base",
            "_view_module_version": "1.2.0",
            "_view_name": "StyleView",
            "cursor": "grab"
          }
        },
        "c0c0a1a784464ff4a5c00e54a9297055": {
          "model_module": "jupyter-leaflet",
          "model_name": "LeafletMapStyleModel",
          "model_module_version": "^0.18",
          "state": {
            "_model_module": "jupyter-leaflet",
            "_model_module_version": "^0.18",
            "_model_name": "LeafletMapStyleModel",
            "_view_count": null,
            "_view_module": "@jupyter-widgets/base",
            "_view_module_version": "1.2.0",
            "_view_name": "StyleView",
            "cursor": "move"
          }
        },
        "297bc785d7324fcb9a73ba7ffb13eb44": {
          "model_module": "jupyter-leaflet",
          "model_name": "LeafletTileLayerModel",
          "model_module_version": "^0.18",
          "state": {
            "_model_module": "jupyter-leaflet",
            "_model_module_version": "^0.18",
            "_model_name": "LeafletTileLayerModel",
            "_view_count": null,
            "_view_module": "jupyter-leaflet",
            "_view_module_version": "^0.18",
            "_view_name": "LeafletTileLayerView",
            "attribution": "&copy; <a href=\"https://www.openstreetmap.org/copyright\">OpenStreetMap</a> contributors",
            "base": true,
            "bottom": true,
            "bounds": null,
            "detect_retina": false,
            "loading": false,
            "max_native_zoom": null,
            "max_zoom": 19,
            "min_native_zoom": null,
            "min_zoom": 1,
            "name": "OpenStreetMap.Mapnik",
            "no_wrap": false,
            "opacity": 1,
            "options": [
              "attribution",
              "bounds",
              "detect_retina",
              "max_native_zoom",
              "max_zoom",
              "min_native_zoom",
              "min_zoom",
              "no_wrap",
              "tile_size",
              "tms",
              "zoom_offset"
            ],
            "pane": "",
            "popup": null,
            "popup_max_height": null,
            "popup_max_width": 300,
            "popup_min_width": 50,
            "show_loading": false,
            "subitems": [],
            "tile_size": 256,
            "tms": false,
            "url": "https://tile.openstreetmap.org/{z}/{x}/{y}.png",
            "visible": true,
            "zoom_offset": 0
          }
        },
        "e248f577fe71405280caa96e253e5ac9": {
          "model_module": "jupyter-leaflet",
          "model_name": "LeafletPolygonModel",
          "model_module_version": "^0.18",
          "state": {
            "_model_module": "jupyter-leaflet",
            "_model_module_version": "^0.18",
            "_model_name": "LeafletPolygonModel",
            "_view_count": null,
            "_view_module": "jupyter-leaflet",
            "_view_module_version": "^0.18",
            "_view_name": "LeafletPolygonView",
            "base": false,
            "bottom": false,
            "color": "green",
            "dash_array": null,
            "draggable": false,
            "fill": true,
            "fill_color": "green",
            "fill_opacity": 0.2,
            "line_cap": "round",
            "line_join": "round",
            "locations": [
              [
                55.79701666,
                49.16197596
              ],
              [
                55.75996203,
                49.16506946
              ],
              [
                55.75022275,
                49.27126502
              ],
              [
                55.74933053,
                49.28282012
              ],
              [
                55.74971864,
                49.28628329
              ],
              [
                55.76163269,
                49.29372761
              ],
              [
                55.80333358,
                49.2875187
              ],
              [
                55.81151284,
                49.28475268
              ],
              [
                55.81497592,
                49.28114693
              ],
              [
                55.84101221,
                49.24695937
              ],
              [
                55.85172355,
                49.22550653
              ],
              [
                55.85855522,
                49.20314189
              ],
              [
                55.8619433,
                49.18931734
              ],
              [
                55.85839452,
                49.17391473
              ],
              [
                55.85077252,
                49.167975
              ]
            ],
            "name": "",
            "no_clip": true,
            "opacity": 1,
            "options": [
              "color",
              "dash_array",
              "draggable",
              "fill",
              "fill_color",
              "fill_opacity",
              "line_cap",
              "line_join",
              "no_clip",
              "opacity",
              "pointer_events",
              "smooth_factor",
              "stroke",
              "transform",
              "weight"
            ],
            "pane": "",
            "pointer_events": "",
            "popup": null,
            "popup_max_height": null,
            "popup_max_width": 300,
            "popup_min_width": 50,
            "rotation": true,
            "scaling": true,
            "smooth_factor": 1,
            "stroke": true,
            "subitems": [],
            "transform": false,
            "uniform_scaling": false,
            "weight": 5
          }
        },
        "88a8b8f0552c47d1a1a944cb55741f2a": {
          "model_module": "jupyter-leaflet",
          "model_name": "LeafletMarkerModel",
          "model_module_version": "^0.18",
          "state": {
            "_model_module": "jupyter-leaflet",
            "_model_module_version": "^0.18",
            "_model_name": "LeafletMarkerModel",
            "_view_count": null,
            "_view_module": "jupyter-leaflet",
            "_view_module_version": "^0.18",
            "_view_name": "LeafletMarkerView",
            "alt": "",
            "base": false,
            "bottom": false,
            "draggable": false,
            "icon": null,
            "keyboard": true,
            "location": [
              55.8006664036983,
              49.22327891318735
            ],
            "name": "",
            "opacity": 1,
            "options": [
              "alt",
              "draggable",
              "keyboard",
              "rise_offset",
              "rise_on_hover",
              "rotation_angle",
              "rotation_origin",
              "title",
              "z_index_offset"
            ],
            "pane": "",
            "popup": null,
            "popup_max_height": null,
            "popup_max_width": 300,
            "popup_min_width": 50,
            "rise_offset": 250,
            "rise_on_hover": false,
            "rotation_angle": 0,
            "rotation_origin": "",
            "subitems": [],
            "title": "Советский р-н",
            "visible": true,
            "z_index_offset": 0
          }
        },
        "4d4fa8f3512e4e3ba788b6f1c006070f": {
          "model_module": "jupyter-leaflet",
          "model_name": "LeafletPolygonModel",
          "model_module_version": "^0.18",
          "state": {
            "_model_module": "jupyter-leaflet",
            "_model_module_version": "^0.18",
            "_model_name": "LeafletPolygonModel",
            "_view_count": null,
            "_view_module": "jupyter-leaflet",
            "_view_module_version": "^0.18",
            "_view_name": "LeafletPolygonView",
            "base": false,
            "bottom": false,
            "color": "blue",
            "dash_array": null,
            "draggable": false,
            "fill": true,
            "fill_color": "blue",
            "fill_opacity": 0.2,
            "line_cap": "round",
            "line_join": "round",
            "locations": [
              [
                55.80102575,
                48.98355862
              ],
              [
                55.79457119,
                49.00296876
              ],
              [
                55.79157857,
                49.05581216
              ],
              [
                55.80570817,
                49.09168861
              ],
              [
                55.81182168,
                49.10321252
              ],
              [
                55.82341167,
                49.08198871
              ],
              [
                55.82861255,
                49.04609018
              ],
              [
                55.82835613,
                49.02772878
              ],
              [
                55.81410362,
                49.00406575
              ]
            ],
            "name": "",
            "no_clip": true,
            "opacity": 1,
            "options": [
              "color",
              "dash_array",
              "draggable",
              "fill",
              "fill_color",
              "fill_opacity",
              "line_cap",
              "line_join",
              "no_clip",
              "opacity",
              "pointer_events",
              "smooth_factor",
              "stroke",
              "transform",
              "weight"
            ],
            "pane": "",
            "pointer_events": "",
            "popup": null,
            "popup_max_height": null,
            "popup_max_width": 300,
            "popup_min_width": 50,
            "rotation": true,
            "scaling": true,
            "smooth_factor": 1,
            "stroke": true,
            "subitems": [],
            "transform": false,
            "uniform_scaling": false,
            "weight": 5
          }
        },
        "981aaa2c8244434bb6bac1230336d893": {
          "model_module": "jupyter-leaflet",
          "model_name": "LeafletMarkerModel",
          "model_module_version": "^0.18",
          "state": {
            "_model_module": "jupyter-leaflet",
            "_model_module_version": "^0.18",
            "_model_name": "LeafletMarkerModel",
            "_view_count": null,
            "_view_module": "jupyter-leaflet",
            "_view_module_version": "^0.18",
            "_view_name": "LeafletMarkerView",
            "alt": "",
            "base": false,
            "bottom": false,
            "draggable": false,
            "icon": null,
            "keyboard": true,
            "location": [
              55.809177369083336,
              49.047308878083335
            ],
            "name": "",
            "opacity": 1,
            "options": [
              "alt",
              "draggable",
              "keyboard",
              "rise_offset",
              "rise_on_hover",
              "rotation_angle",
              "rotation_origin",
              "title",
              "z_index_offset"
            ],
            "pane": "",
            "popup": null,
            "popup_max_height": null,
            "popup_max_width": 300,
            "popup_min_width": 50,
            "rise_offset": 250,
            "rise_on_hover": false,
            "rotation_angle": 0,
            "rotation_origin": "",
            "subitems": [],
            "title": "Кировский р-н",
            "visible": true,
            "z_index_offset": 0
          }
        },
        "f87f6b5aa6d842cb86f3d5561c2c1097": {
          "model_module": "jupyter-leaflet",
          "model_name": "LeafletPolygonModel",
          "model_module_version": "^0.18",
          "state": {
            "_model_module": "jupyter-leaflet",
            "_model_module_version": "^0.18",
            "_model_name": "LeafletPolygonModel",
            "_view_count": null,
            "_view_module": "jupyter-leaflet",
            "_view_module_version": "^0.18",
            "_view_name": "LeafletPolygonView",
            "base": false,
            "bottom": false,
            "color": "yellow",
            "dash_array": null,
            "draggable": false,
            "fill": true,
            "fill_color": "yellow",
            "fill_opacity": 0.2,
            "line_cap": "round",
            "line_join": "round",
            "locations": [
              [
                55.70005112,
                49.06250366
              ],
              [
                55.6981604,
                49.06306173
              ],
              [
                55.69440841,
                49.08698442
              ],
              [
                55.68995762,
                49.14355671
              ],
              [
                55.69123173,
                49.16411526
              ],
              [
                55.70984081,
                49.21767195
              ],
              [
                55.73575913,
                49.27714655
              ],
              [
                55.74122058,
                49.28204946
              ],
              [
                55.74449144,
                49.28271927
              ],
              [
                55.74729353,
                49.28122973
              ],
              [
                55.75770597,
                49.25406796
              ],
              [
                55.75827932,
                49.25162324
              ],
              [
                55.77392978,
                49.14481835
              ],
              [
                55.77102015,
                49.11192909
              ],
              [
                55.75925831,
                49.10014186
              ]
            ],
            "name": "",
            "no_clip": true,
            "opacity": 1,
            "options": [
              "color",
              "dash_array",
              "draggable",
              "fill",
              "fill_color",
              "fill_opacity",
              "line_cap",
              "line_join",
              "no_clip",
              "opacity",
              "pointer_events",
              "smooth_factor",
              "stroke",
              "transform",
              "weight"
            ],
            "pane": "",
            "pointer_events": "",
            "popup": null,
            "popup_max_height": null,
            "popup_max_width": 300,
            "popup_min_width": 50,
            "rotation": true,
            "scaling": true,
            "smooth_factor": 1,
            "stroke": true,
            "subitems": [],
            "transform": false,
            "uniform_scaling": false,
            "weight": 5
          }
        },
        "7e69aae179434b0bab3dbbf827296c7f": {
          "model_module": "jupyter-leaflet",
          "model_name": "LeafletMarkerModel",
          "model_module_version": "^0.18",
          "state": {
            "_model_module": "jupyter-leaflet",
            "_model_module_version": "^0.18",
            "_model_name": "LeafletMarkerModel",
            "_view_count": null,
            "_view_module": "jupyter-leaflet",
            "_view_module_version": "^0.18",
            "_view_name": "LeafletMarkerView",
            "alt": "",
            "base": false,
            "bottom": false,
            "draggable": false,
            "icon": null,
            "keyboard": true,
            "location": [
              55.73707200588405,
              49.1668575637971
            ],
            "name": "",
            "opacity": 1,
            "options": [
              "alt",
              "draggable",
              "keyboard",
              "rise_offset",
              "rise_on_hover",
              "rotation_angle",
              "rotation_origin",
              "title",
              "z_index_offset"
            ],
            "pane": "",
            "popup": null,
            "popup_max_height": null,
            "popup_max_width": 300,
            "popup_min_width": 50,
            "rise_offset": 250,
            "rise_on_hover": false,
            "rotation_angle": 0,
            "rotation_origin": "",
            "subitems": [],
            "title": "Приволжский р-н",
            "visible": true,
            "z_index_offset": 0
          }
        },
        "abd5c96db54f40cda1131365e2619683": {
          "model_module": "jupyter-leaflet",
          "model_name": "LeafletPolygonModel",
          "model_module_version": "^0.18",
          "state": {
            "_model_module": "jupyter-leaflet",
            "_model_module_version": "^0.18",
            "_model_name": "LeafletPolygonModel",
            "_view_count": null,
            "_view_module": "jupyter-leaflet",
            "_view_module_version": "^0.18",
            "_view_name": "LeafletPolygonView",
            "base": false,
            "bottom": false,
            "color": "red",
            "dash_array": null,
            "draggable": false,
            "fill": true,
            "fill_color": "red",
            "fill_opacity": 0.2,
            "line_cap": "round",
            "line_join": "round",
            "locations": [
              [
                55.83514383,
                49.02335297
              ],
              [
                55.82896952,
                49.0427987
              ],
              [
                55.81703343,
                49.09114806
              ],
              [
                55.81793522,
                49.09902899
              ],
              [
                55.82465763,
                49.10643709
              ],
              [
                55.84148948,
                49.08337392
              ],
              [
                55.84528078,
                49.07596403
              ],
              [
                55.84686738,
                49.05424566
              ],
              [
                55.84393354,
                49.02882183
              ],
              [
                55.84316452,
                49.02822632
              ]
            ],
            "name": "",
            "no_clip": true,
            "opacity": 1,
            "options": [
              "color",
              "dash_array",
              "draggable",
              "fill",
              "fill_color",
              "fill_opacity",
              "line_cap",
              "line_join",
              "no_clip",
              "opacity",
              "pointer_events",
              "smooth_factor",
              "stroke",
              "transform",
              "weight"
            ],
            "pane": "",
            "pointer_events": "",
            "popup": null,
            "popup_max_height": null,
            "popup_max_width": 300,
            "popup_min_width": 50,
            "rotation": true,
            "scaling": true,
            "smooth_factor": 1,
            "stroke": true,
            "subitems": [],
            "transform": false,
            "uniform_scaling": false,
            "weight": 5
          }
        },
        "55e8b8b321c34b40bf9adccaa28b0965": {
          "model_module": "jupyter-leaflet",
          "model_name": "LeafletMarkerModel",
          "model_module_version": "^0.18",
          "state": {
            "_model_module": "jupyter-leaflet",
            "_model_module_version": "^0.18",
            "_model_name": "LeafletMarkerModel",
            "_view_count": null,
            "_view_module": "jupyter-leaflet",
            "_view_module_version": "^0.18",
            "_view_name": "LeafletMarkerView",
            "alt": "",
            "base": false,
            "bottom": false,
            "draggable": false,
            "icon": null,
            "keyboard": true,
            "location": [
              55.83297060833333,
              49.06870853814815
            ],
            "name": "",
            "opacity": 1,
            "options": [
              "alt",
              "draggable",
              "keyboard",
              "rise_offset",
              "rise_on_hover",
              "rotation_angle",
              "rotation_origin",
              "title",
              "z_index_offset"
            ],
            "pane": "",
            "popup": null,
            "popup_max_height": null,
            "popup_max_width": 300,
            "popup_min_width": 50,
            "rise_offset": 250,
            "rise_on_hover": false,
            "rotation_angle": 0,
            "rotation_origin": "",
            "subitems": [],
            "title": "Московский р-н",
            "visible": true,
            "z_index_offset": 0
          }
        },
        "6751aa1a202245dc93e87df55e5e51d8": {
          "model_module": "jupyter-leaflet",
          "model_name": "LeafletPolygonModel",
          "model_module_version": "^0.18",
          "state": {
            "_model_module": "jupyter-leaflet",
            "_model_module_version": "^0.18",
            "_model_name": "LeafletPolygonModel",
            "_view_count": null,
            "_view_module": "jupyter-leaflet",
            "_view_module_version": "^0.18",
            "_view_name": "LeafletPolygonView",
            "base": false,
            "bottom": false,
            "color": "pink",
            "dash_array": null,
            "draggable": false,
            "fill": true,
            "fill_color": "pink",
            "fill_opacity": 0.2,
            "line_cap": "round",
            "line_join": "round",
            "locations": [
              [
                55.8512175,
                49.05064957
              ],
              [
                55.84739923,
                49.05944653
              ],
              [
                55.84693701,
                49.06172313
              ],
              [
                55.84475643,
                49.0878232
              ],
              [
                55.84964884,
                49.13678437
              ],
              [
                55.85138607,
                49.13876836
              ],
              [
                55.86704972,
                49.14431005
              ],
              [
                55.86438327,
                49.09596706
              ],
              [
                55.85380298,
                49.05278627
              ]
            ],
            "name": "",
            "no_clip": true,
            "opacity": 1,
            "options": [
              "color",
              "dash_array",
              "draggable",
              "fill",
              "fill_color",
              "fill_opacity",
              "line_cap",
              "line_join",
              "no_clip",
              "opacity",
              "pointer_events",
              "smooth_factor",
              "stroke",
              "transform",
              "weight"
            ],
            "pane": "",
            "pointer_events": "",
            "popup": null,
            "popup_max_height": null,
            "popup_max_width": 300,
            "popup_min_width": 50,
            "rotation": true,
            "scaling": true,
            "smooth_factor": 1,
            "stroke": true,
            "subitems": [],
            "transform": false,
            "uniform_scaling": false,
            "weight": 5
          }
        },
        "891f6f95493240bf8cec6447cbd72f4f": {
          "model_module": "jupyter-leaflet",
          "model_name": "LeafletMarkerModel",
          "model_module_version": "^0.18",
          "state": {
            "_model_module": "jupyter-leaflet",
            "_model_module_version": "^0.18",
            "_model_name": "LeafletMarkerModel",
            "_view_count": null,
            "_view_module": "jupyter-leaflet",
            "_view_module_version": "^0.18",
            "_view_name": "LeafletMarkerView",
            "alt": "",
            "base": false,
            "bottom": false,
            "draggable": false,
            "icon": null,
            "keyboard": true,
            "location": [
              55.854467778965514,
              49.09137408051723
            ],
            "name": "",
            "opacity": 1,
            "options": [
              "alt",
              "draggable",
              "keyboard",
              "rise_offset",
              "rise_on_hover",
              "rotation_angle",
              "rotation_origin",
              "title",
              "z_index_offset"
            ],
            "pane": "",
            "popup": null,
            "popup_max_height": null,
            "popup_max_width": 300,
            "popup_min_width": 50,
            "rise_offset": 250,
            "rise_on_hover": false,
            "rotation_angle": 0,
            "rotation_origin": "",
            "subitems": [],
            "title": "Авиастроительный р-н",
            "visible": true,
            "z_index_offset": 0
          }
        },
        "c748b7b5f1c949fd8a8cc706b55447c2": {
          "model_module": "jupyter-leaflet",
          "model_name": "LeafletPolygonModel",
          "model_module_version": "^0.18",
          "state": {
            "_model_module": "jupyter-leaflet",
            "_model_module_version": "^0.18",
            "_model_name": "LeafletPolygonModel",
            "_view_count": null,
            "_view_module": "jupyter-leaflet",
            "_view_module_version": "^0.18",
            "_view_name": "LeafletPolygonView",
            "base": false,
            "bottom": false,
            "color": "white",
            "dash_array": null,
            "draggable": false,
            "fill": true,
            "fill_color": "white",
            "fill_opacity": 0.2,
            "line_cap": "round",
            "line_join": "round",
            "locations": [
              [
                55.84317032,
                49.09048384
              ],
              [
                55.83355611,
                49.09205691
              ],
              [
                55.81294515,
                49.10820295
              ],
              [
                55.81224943,
                49.10959414
              ],
              [
                55.81303454,
                49.13443587
              ],
              [
                55.82154427,
                49.16220761
              ],
              [
                55.82842188,
                49.16609233
              ],
              [
                55.84821382,
                49.16017302
              ],
              [
                55.84842969,
                49.15589655
              ],
              [
                55.84888838,
                49.14561398
              ],
              [
                55.84411471,
                49.09296946
              ]
            ],
            "name": "",
            "no_clip": true,
            "opacity": 1,
            "options": [
              "color",
              "dash_array",
              "draggable",
              "fill",
              "fill_color",
              "fill_opacity",
              "line_cap",
              "line_join",
              "no_clip",
              "opacity",
              "pointer_events",
              "smooth_factor",
              "stroke",
              "transform",
              "weight"
            ],
            "pane": "",
            "pointer_events": "",
            "popup": null,
            "popup_max_height": null,
            "popup_max_width": 300,
            "popup_min_width": 50,
            "rotation": true,
            "scaling": true,
            "smooth_factor": 1,
            "stroke": true,
            "subitems": [],
            "transform": false,
            "uniform_scaling": false,
            "weight": 5
          }
        },
        "c8c5d990628741eba77a24ed446c3bfc": {
          "model_module": "jupyter-leaflet",
          "model_name": "LeafletMarkerModel",
          "model_module_version": "^0.18",
          "state": {
            "_model_module": "jupyter-leaflet",
            "_model_module_version": "^0.18",
            "_model_name": "LeafletMarkerModel",
            "_view_count": null,
            "_view_module": "jupyter-leaflet",
            "_view_module_version": "^0.18",
            "_view_name": "LeafletMarkerView",
            "alt": "",
            "base": false,
            "bottom": false,
            "draggable": false,
            "icon": null,
            "keyboard": true,
            "location": [
              55.83215790016128,
              49.12976869362903
            ],
            "name": "",
            "opacity": 1,
            "options": [
              "alt",
              "draggable",
              "keyboard",
              "rise_offset",
              "rise_on_hover",
              "rotation_angle",
              "rotation_origin",
              "title",
              "z_index_offset"
            ],
            "pane": "",
            "popup": null,
            "popup_max_height": null,
            "popup_max_width": 300,
            "popup_min_width": 50,
            "rise_offset": 250,
            "rise_on_hover": false,
            "rotation_angle": 0,
            "rotation_origin": "",
            "subitems": [],
            "title": "Ново-Савиновский р-н",
            "visible": true,
            "z_index_offset": 0
          }
        },
        "7f9a344552584814840e6d9db82ff903": {
          "model_module": "jupyter-leaflet",
          "model_name": "LeafletPolygonModel",
          "model_module_version": "^0.18",
          "state": {
            "_model_module": "jupyter-leaflet",
            "_model_module_version": "^0.18",
            "_model_name": "LeafletPolygonModel",
            "_view_count": null,
            "_view_module": "jupyter-leaflet",
            "_view_module_version": "^0.18",
            "_view_name": "LeafletPolygonView",
            "base": false,
            "bottom": false,
            "color": "black",
            "dash_array": null,
            "draggable": false,
            "fill": true,
            "fill_color": "black",
            "fill_opacity": 0.2,
            "line_cap": "round",
            "line_join": "round",
            "locations": [
              [
                55.76170341,
                49.07853502
              ],
              [
                55.75989995,
                49.08043905
              ],
              [
                55.76604657,
                49.15729426
              ],
              [
                55.76792331,
                49.16483669
              ],
              [
                55.76999698,
                49.17004746
              ],
              [
                55.79088496,
                49.1618259
              ],
              [
                55.80367795,
                49.15514583
              ],
              [
                55.80437154,
                49.14670158
              ],
              [
                55.8050097,
                49.12012959
              ],
              [
                55.79695093,
                49.07940637
              ]
            ],
            "name": "",
            "no_clip": true,
            "opacity": 1,
            "options": [
              "color",
              "dash_array",
              "draggable",
              "fill",
              "fill_color",
              "fill_opacity",
              "line_cap",
              "line_join",
              "no_clip",
              "opacity",
              "pointer_events",
              "smooth_factor",
              "stroke",
              "transform",
              "weight"
            ],
            "pane": "",
            "pointer_events": "",
            "popup": null,
            "popup_max_height": null,
            "popup_max_width": 300,
            "popup_min_width": 50,
            "rotation": true,
            "scaling": true,
            "smooth_factor": 1,
            "stroke": true,
            "subitems": [],
            "transform": false,
            "uniform_scaling": false,
            "weight": 5
          }
        },
        "2e42767767664d2688039e0ffd378c48": {
          "model_module": "jupyter-leaflet",
          "model_name": "LeafletMarkerModel",
          "model_module_version": "^0.18",
          "state": {
            "_model_module": "jupyter-leaflet",
            "_model_module_version": "^0.18",
            "_model_name": "LeafletMarkerModel",
            "_view_count": null,
            "_view_module": "jupyter-leaflet",
            "_view_module_version": "^0.18",
            "_view_name": "LeafletMarkerView",
            "alt": "",
            "base": false,
            "bottom": false,
            "draggable": false,
            "icon": null,
            "keyboard": true,
            "location": [
              55.78388507437501,
              49.128690148958334
            ],
            "name": "",
            "opacity": 1,
            "options": [
              "alt",
              "draggable",
              "keyboard",
              "rise_offset",
              "rise_on_hover",
              "rotation_angle",
              "rotation_origin",
              "title",
              "z_index_offset"
            ],
            "pane": "",
            "popup": null,
            "popup_max_height": null,
            "popup_max_width": 300,
            "popup_min_width": 50,
            "rise_offset": 250,
            "rise_on_hover": false,
            "rotation_angle": 0,
            "rotation_origin": "",
            "subitems": [],
            "title": "Вахитовский р-н",
            "visible": true,
            "z_index_offset": 0
          }
        },
        "73b2a982f4974ff095306ab7e1cf7d32": {
          "model_module": "jupyter-leaflet",
          "model_name": "LeafletPolygonModel",
          "model_module_version": "^0.18",
          "state": {
            "_model_module": "jupyter-leaflet",
            "_model_module_version": "^0.18",
            "_model_name": "LeafletPolygonModel",
            "_view_count": null,
            "_view_module": "jupyter-leaflet",
            "_view_module_version": "^0.18",
            "_view_name": "LeafletPolygonView",
            "base": false,
            "bottom": false,
            "color": "brown",
            "dash_array": null,
            "draggable": false,
            "fill": true,
            "fill_color": "brown",
            "fill_opacity": 0.2,
            "line_cap": "round",
            "line_join": "round",
            "locations": [
              [
                55.7681986,
                48.98036832
              ],
              [
                55.7601299,
                48.98041104
              ],
              [
                55.75396248,
                48.99221216
              ],
              [
                55.7626622,
                48.99537548
              ],
              [
                55.76826878,
                48.99391249
              ],
              [
                55.7720068,
                48.98837987
              ],
              [
                55.77219498,
                48.98689375
              ],
              [
                55.76988209,
                48.98200914
              ]
            ],
            "name": "",
            "no_clip": true,
            "opacity": 1,
            "options": [
              "color",
              "dash_array",
              "draggable",
              "fill",
              "fill_color",
              "fill_opacity",
              "line_cap",
              "line_join",
              "no_clip",
              "opacity",
              "pointer_events",
              "smooth_factor",
              "stroke",
              "transform",
              "weight"
            ],
            "pane": "",
            "pointer_events": "",
            "popup": null,
            "popup_max_height": null,
            "popup_max_width": 300,
            "popup_min_width": 50,
            "rotation": true,
            "scaling": true,
            "smooth_factor": 1,
            "stroke": true,
            "subitems": [],
            "transform": false,
            "uniform_scaling": false,
            "weight": 5
          }
        },
        "63f805646a5c42dcbcecf016bb0de496": {
          "model_module": "jupyter-leaflet",
          "model_name": "LeafletMarkerModel",
          "model_module_version": "^0.18",
          "state": {
            "_model_module": "jupyter-leaflet",
            "_model_module_version": "^0.18",
            "_model_name": "LeafletMarkerModel",
            "_view_count": null,
            "_view_module": "jupyter-leaflet",
            "_view_module_version": "^0.18",
            "_view_name": "LeafletMarkerView",
            "alt": "",
            "base": false,
            "bottom": false,
            "draggable": false,
            "icon": null,
            "keyboard": true,
            "location": [
              55.765367782,
              48.98666391933334
            ],
            "name": "",
            "opacity": 1,
            "options": [
              "alt",
              "draggable",
              "keyboard",
              "rise_offset",
              "rise_on_hover",
              "rotation_angle",
              "rotation_origin",
              "title",
              "z_index_offset"
            ],
            "pane": "",
            "popup": null,
            "popup_max_height": null,
            "popup_max_width": 300,
            "popup_min_width": 50,
            "rise_offset": 250,
            "rise_on_hover": false,
            "rotation_angle": 0,
            "rotation_origin": "",
            "subitems": [],
            "title": "Верхнеуслонский р-н",
            "visible": true,
            "z_index_offset": 0
          }
        },
        "5e34e3f14a644a5f879ed2aa74a30ae6": {
          "model_module": "@jupyter-widgets/base",
          "model_name": "LayoutModel",
          "model_module_version": "1.2.0",
          "state": {
            "_model_module": "@jupyter-widgets/base",
            "_model_module_version": "1.2.0",
            "_model_name": "LayoutModel",
            "_view_count": null,
            "_view_module": "@jupyter-widgets/base",
            "_view_module_version": "1.2.0",
            "_view_name": "LayoutView",
            "align_content": null,
            "align_items": null,
            "align_self": null,
            "border": null,
            "bottom": null,
            "display": null,
            "flex": null,
            "flex_flow": null,
            "grid_area": null,
            "grid_auto_columns": null,
            "grid_auto_flow": null,
            "grid_auto_rows": null,
            "grid_column": null,
            "grid_gap": null,
            "grid_row": null,
            "grid_template_areas": null,
            "grid_template_columns": null,
            "grid_template_rows": null,
            "height": "800px",
            "justify_content": null,
            "justify_items": null,
            "left": null,
            "margin": null,
            "max_height": null,
            "max_width": null,
            "min_height": null,
            "min_width": null,
            "object_fit": null,
            "object_position": null,
            "order": null,
            "overflow": null,
            "overflow_x": null,
            "overflow_y": null,
            "padding": null,
            "right": null,
            "top": null,
            "visibility": null,
            "width": "100%"
          }
        },
        "0d85fafd643d48fe832b62aa35eb28bb": {
          "model_module": "jupyter-leaflet",
          "model_name": "LeafletMapStyleModel",
          "model_module_version": "^0.18",
          "state": {
            "_model_module": "jupyter-leaflet",
            "_model_module_version": "^0.18",
            "_model_name": "LeafletMapStyleModel",
            "_view_count": null,
            "_view_module": "@jupyter-widgets/base",
            "_view_module_version": "1.2.0",
            "_view_name": "StyleView",
            "cursor": "grab"
          }
        }
      }
    }
  },
  "nbformat": 4,
  "nbformat_minor": 5
}